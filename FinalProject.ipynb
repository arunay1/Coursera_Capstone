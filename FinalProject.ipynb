{
 "cells": [
  {
   "cell_type": "markdown",
   "metadata": {},
   "source": [
    "<a href=\"https://www.bigdatauniversity.com\"><img src = \"https://ibm.box.com/shared/static/cw2c7r3o20w9zn8gkecaeyjhgw3xdgbj.png\" width = 400, align = \"center\"></a>\n",
    "\n",
    "<h1 align=center><font size = 5 color = brown>Predicting Type of Cuisine to serve in a Restaurant</font></h1>"
   ]
  },
  {
   "cell_type": "markdown",
   "metadata": {},
   "source": [
    "### <font color = brown><i> Business Problem</font></i>\n",
    "<br>\n",
    "<font face=calibri size=3>The objective of this report is to help anyone who intends to set up a restaurant or eatery in a neighborhood decide on where and what type of cuisines to serve through analysis of data sourced from foursquare and US census bureau. \n",
    "<br/><br/>\n",
    "“Explore where one should open a restaurant and what type of cuisine to serve through use of data analytics and Machine Learning”.\n",
    "<br/><br/>\n",
    "One business strategy coule be to explore cuisine which is not served in the neighbourhood abother could be venture into cuisne mostly served in the area.\n",
    "\n",
    "</font>\n",
    "\n",
    "\n",
    "### <font color = brown><i>  Description of Data</font></i>\n",
    "<br>\n",
    "<font face=calibri size=3>\n",
    "For purpose of this report I intend to use data gathered from foursquare about type of cuisine most served at a neighbourhood and US census website about neighbourhood profile through use of API’s. \n",
    "<br/><br/>\n",
    "I will focus on using supervised learning algorithms such as k-Nearest Neighbors and Support Vector Machine and classify data points into categorical type of cuisine.\n",
    "<br/><br/>\n",
    "US Census has API’s which provide information about geographies for more than 18000 variables. I plan to use variables pertaining to age, race, income etc. along with data obtained from foursquare regarding number of place, type of cuisine and then predict the type of cuisine can be served when setting a restaurant in a new neighborhood.\n"
   ]
  },
  {
   "cell_type": "markdown",
   "metadata": {},
   "source": [
    "#### Getting all the required imports"
   ]
  },
  {
   "cell_type": "code",
   "execution_count": 1,
   "metadata": {},
   "outputs": [
    {
     "name": "stdout",
     "output_type": "stream",
     "text": [
      "Libraries imported.\n"
     ]
    }
   ],
   "source": [
    "import requests                           # library to handle requests\n",
    "import pandas as pd                       # library for data analsysis\n",
    "import numpy  as np                       # library to handle data in a vectorized manner\n",
    "from bs4 import BeautifulSoup             # library for parsing the html page\n",
    "from pandas.io.json import json_normalize # library to tranform JSON file into a pandas dataframe\n",
    "\n",
    "import geocoder                           # library for getting longitude and latitude of location \n",
    "\n",
    "import json # library to handle JSON files\n",
    "\n",
    "# Matplotlib and associated plotting modules\n",
    "import matplotlib.cm as cm\n",
    "import matplotlib.colors as colors\n",
    "\n",
    "# import k-means from clustering stage\n",
    "from sklearn.cluster import KMeans\n",
    "\n",
    "#!conda install -c conda-forge geopy --yes # uncomment this line if you haven't completed the Foursquare API lab\n",
    "from geopy.geocoders import Nominatim # convert an address into latitude and longitude values\n",
    "\n",
    "\n",
    "#!conda install -c conda-forge folium=0.5.0 --yes # uncomment this line if you haven't completed the Foursquare API lab\n",
    "import folium # map rendering library\n",
    "\n",
    "print('Libraries imported.')"
   ]
  },
  {
   "cell_type": "code",
   "execution_count": 1,
   "metadata": {
    "collapsed": true
   },
   "outputs": [],
   "source": [
    "#!pip install census\n",
    "#!pip install us\n",
    "\n",
    "from census import Census\n",
    "from us     import states\n",
    "\n",
    "ClientAPIKey = 'd16d4d592fbfbf70fe519b47dca283c6ac339d8e'\n",
    "c = Census(ClientAPIKey)"
   ]
  },
  {
   "cell_type": "code",
   "execution_count": 18,
   "metadata": {},
   "outputs": [
    {
     "ename": "CensusException",
     "evalue": "error: invalid 'in' argument",
     "output_type": "error",
     "traceback": [
      "\u001b[1;31m---------------------------------------------------------------------------\u001b[0m",
      "\u001b[1;31mCensusException\u001b[0m                           Traceback (most recent call last)",
      "\u001b[1;32m<ipython-input-18-de841e7b1d21>\u001b[0m in \u001b[0;36m<module>\u001b[1;34m()\u001b[0m\n\u001b[1;32m----> 1\u001b[1;33m \u001b[0mc\u001b[0m\u001b[1;33m.\u001b[0m\u001b[0macs5\u001b[0m\u001b[1;33m.\u001b[0m\u001b[0mget\u001b[0m\u001b[1;33m(\u001b[0m\u001b[1;34m'B25034_010E'\u001b[0m\u001b[1;33m,\u001b[0m \u001b[0mgeo\u001b[0m\u001b[1;33m=\u001b[0m\u001b[1;33m{\u001b[0m\u001b[1;34m'for'\u001b[0m\u001b[1;33m:\u001b[0m\u001b[1;34m'state:*'\u001b[0m\u001b[1;33m,\u001b[0m \u001b[1;34m'in'\u001b[0m\u001b[1;33m:\u001b[0m\u001b[1;34m'county*'\u001b[0m\u001b[1;33m}\u001b[0m\u001b[1;33m)\u001b[0m\u001b[1;33m\u001b[0m\u001b[1;33m\u001b[0m\u001b[0m\n\u001b[0m\u001b[0;32m      2\u001b[0m \u001b[1;33m\u001b[0m\u001b[0m\n\u001b[0;32m      3\u001b[0m \u001b[1;31m#https://api.census.gov/data/2017/acs/acs5/subject?get=NAME,S0101_C01_001E&for=county:*&in=state:*&key=d16d4d592fbfbf70fe519b47dca283c6ac339d8e\u001b[0m\u001b[1;33m\u001b[0m\u001b[1;33m\u001b[0m\u001b[1;33m\u001b[0m\u001b[0m\n\u001b[0;32m      4\u001b[0m \u001b[1;31m#c.sf1.get('NAME', geo={'for': 'tract:*','in': 'state:{} county:170'.format(states.AK.fips)})\u001b[0m\u001b[1;33m\u001b[0m\u001b[1;33m\u001b[0m\u001b[1;33m\u001b[0m\u001b[0m\n\u001b[0;32m      5\u001b[0m \u001b[1;33m\u001b[0m\u001b[0m\n",
      "\u001b[1;32mC:\\ProgramData\\Anaconda3\\lib\\site-packages\\census\\core.py\u001b[0m in \u001b[0;36mget\u001b[1;34m(self, *args, **kwargs)\u001b[0m\n\u001b[0;32m    296\u001b[0m         \u001b[0mself\u001b[0m\u001b[1;33m.\u001b[0m\u001b[0m_switch_endpoints\u001b[0m\u001b[1;33m(\u001b[0m\u001b[0mkwargs\u001b[0m\u001b[1;33m.\u001b[0m\u001b[0mget\u001b[0m\u001b[1;33m(\u001b[0m\u001b[1;34m'year'\u001b[0m\u001b[1;33m,\u001b[0m \u001b[0mself\u001b[0m\u001b[1;33m.\u001b[0m\u001b[0mdefault_year\u001b[0m\u001b[1;33m)\u001b[0m\u001b[1;33m)\u001b[0m\u001b[1;33m\u001b[0m\u001b[1;33m\u001b[0m\u001b[0m\n\u001b[0;32m    297\u001b[0m \u001b[1;33m\u001b[0m\u001b[0m\n\u001b[1;32m--> 298\u001b[1;33m         \u001b[1;32mreturn\u001b[0m \u001b[0msuper\u001b[0m\u001b[1;33m(\u001b[0m\u001b[0mACSClient\u001b[0m\u001b[1;33m,\u001b[0m \u001b[0mself\u001b[0m\u001b[1;33m)\u001b[0m\u001b[1;33m.\u001b[0m\u001b[0mget\u001b[0m\u001b[1;33m(\u001b[0m\u001b[1;33m*\u001b[0m\u001b[0margs\u001b[0m\u001b[1;33m,\u001b[0m \u001b[1;33m**\u001b[0m\u001b[0mkwargs\u001b[0m\u001b[1;33m)\u001b[0m\u001b[1;33m\u001b[0m\u001b[1;33m\u001b[0m\u001b[0m\n\u001b[0m\u001b[0;32m    299\u001b[0m \u001b[1;33m\u001b[0m\u001b[0m\n\u001b[0;32m    300\u001b[0m \u001b[1;32mclass\u001b[0m \u001b[0mACS5Client\u001b[0m\u001b[1;33m(\u001b[0m\u001b[0mACSClient\u001b[0m\u001b[1;33m)\u001b[0m\u001b[1;33m:\u001b[0m\u001b[1;33m\u001b[0m\u001b[1;33m\u001b[0m\u001b[0m\n",
      "\u001b[1;32mC:\\ProgramData\\Anaconda3\\lib\\site-packages\\census\\core.py\u001b[0m in \u001b[0;36mget\u001b[1;34m(self, fields, geo, year, **kwargs)\u001b[0m\n\u001b[0;32m    153\u001b[0m         all_results = (self.query(fifty_fields, geo, year, **kwargs)\n\u001b[0;32m    154\u001b[0m                        for fifty_fields in chunks(fields, 50))\n\u001b[1;32m--> 155\u001b[1;33m         \u001b[0mmerged_results\u001b[0m \u001b[1;33m=\u001b[0m \u001b[1;33m[\u001b[0m\u001b[0mmerge\u001b[0m\u001b[1;33m(\u001b[0m\u001b[0mresult\u001b[0m\u001b[1;33m)\u001b[0m \u001b[1;32mfor\u001b[0m \u001b[0mresult\u001b[0m \u001b[1;32min\u001b[0m \u001b[0mzip\u001b[0m\u001b[1;33m(\u001b[0m\u001b[1;33m*\u001b[0m\u001b[0mall_results\u001b[0m\u001b[1;33m)\u001b[0m\u001b[1;33m]\u001b[0m\u001b[1;33m\u001b[0m\u001b[1;33m\u001b[0m\u001b[0m\n\u001b[0m\u001b[0;32m    156\u001b[0m \u001b[1;33m\u001b[0m\u001b[0m\n\u001b[0;32m    157\u001b[0m         \u001b[1;32mreturn\u001b[0m \u001b[0mmerged_results\u001b[0m\u001b[1;33m\u001b[0m\u001b[1;33m\u001b[0m\u001b[0m\n",
      "\u001b[1;32mC:\\ProgramData\\Anaconda3\\lib\\site-packages\\census\\core.py\u001b[0m in \u001b[0;36m<genexpr>\u001b[1;34m(.0)\u001b[0m\n\u001b[0;32m    152\u001b[0m     \u001b[1;32mdef\u001b[0m \u001b[0mget\u001b[0m\u001b[1;33m(\u001b[0m\u001b[0mself\u001b[0m\u001b[1;33m,\u001b[0m \u001b[0mfields\u001b[0m\u001b[1;33m,\u001b[0m \u001b[0mgeo\u001b[0m\u001b[1;33m,\u001b[0m \u001b[0myear\u001b[0m\u001b[1;33m=\u001b[0m\u001b[1;32mNone\u001b[0m\u001b[1;33m,\u001b[0m \u001b[1;33m**\u001b[0m\u001b[0mkwargs\u001b[0m\u001b[1;33m)\u001b[0m\u001b[1;33m:\u001b[0m\u001b[1;33m\u001b[0m\u001b[1;33m\u001b[0m\u001b[0m\n\u001b[0;32m    153\u001b[0m         all_results = (self.query(fifty_fields, geo, year, **kwargs)\n\u001b[1;32m--> 154\u001b[1;33m                        for fifty_fields in chunks(fields, 50))\n\u001b[0m\u001b[0;32m    155\u001b[0m         \u001b[0mmerged_results\u001b[0m \u001b[1;33m=\u001b[0m \u001b[1;33m[\u001b[0m\u001b[0mmerge\u001b[0m\u001b[1;33m(\u001b[0m\u001b[0mresult\u001b[0m\u001b[1;33m)\u001b[0m \u001b[1;32mfor\u001b[0m \u001b[0mresult\u001b[0m \u001b[1;32min\u001b[0m \u001b[0mzip\u001b[0m\u001b[1;33m(\u001b[0m\u001b[1;33m*\u001b[0m\u001b[0mall_results\u001b[0m\u001b[1;33m)\u001b[0m\u001b[1;33m]\u001b[0m\u001b[1;33m\u001b[0m\u001b[1;33m\u001b[0m\u001b[0m\n\u001b[0;32m    156\u001b[0m \u001b[1;33m\u001b[0m\u001b[0m\n",
      "\u001b[1;32mC:\\ProgramData\\Anaconda3\\lib\\site-packages\\census\\core.py\u001b[0m in \u001b[0;36mwrapper\u001b[1;34m(self, *args, **kwargs)\u001b[0m\n\u001b[0;32m     62\u001b[0m         \u001b[1;32mfor\u001b[0m \u001b[0m_\u001b[0m \u001b[1;32min\u001b[0m \u001b[0mrange\u001b[0m\u001b[1;33m(\u001b[0m\u001b[0mmax\u001b[0m\u001b[1;33m(\u001b[0m\u001b[0mself\u001b[0m\u001b[1;33m.\u001b[0m\u001b[0mretries\u001b[0m \u001b[1;33m-\u001b[0m \u001b[1;36m1\u001b[0m\u001b[1;33m,\u001b[0m \u001b[1;36m0\u001b[0m\u001b[1;33m)\u001b[0m\u001b[1;33m)\u001b[0m\u001b[1;33m:\u001b[0m\u001b[1;33m\u001b[0m\u001b[1;33m\u001b[0m\u001b[0m\n\u001b[0;32m     63\u001b[0m             \u001b[1;32mtry\u001b[0m\u001b[1;33m:\u001b[0m\u001b[1;33m\u001b[0m\u001b[1;33m\u001b[0m\u001b[0m\n\u001b[1;32m---> 64\u001b[1;33m                 \u001b[0mresult\u001b[0m \u001b[1;33m=\u001b[0m \u001b[0mfunc\u001b[0m\u001b[1;33m(\u001b[0m\u001b[0mself\u001b[0m\u001b[1;33m,\u001b[0m \u001b[1;33m*\u001b[0m\u001b[0margs\u001b[0m\u001b[1;33m,\u001b[0m \u001b[1;33m**\u001b[0m\u001b[0mkwargs\u001b[0m\u001b[1;33m)\u001b[0m\u001b[1;33m\u001b[0m\u001b[1;33m\u001b[0m\u001b[0m\n\u001b[0m\u001b[0;32m     65\u001b[0m             \u001b[1;32mexcept\u001b[0m \u001b[0mCensusException\u001b[0m \u001b[1;32mas\u001b[0m \u001b[0me\u001b[0m\u001b[1;33m:\u001b[0m\u001b[1;33m\u001b[0m\u001b[1;33m\u001b[0m\u001b[0m\n\u001b[0;32m     66\u001b[0m                 \u001b[1;32mif\u001b[0m \u001b[1;34m\"There was an error while running your query.  We've logged the error and we'll correct it ASAP.  Sorry for the inconvenience.\"\u001b[0m \u001b[1;32min\u001b[0m \u001b[0mstr\u001b[0m\u001b[1;33m(\u001b[0m\u001b[0me\u001b[0m\u001b[1;33m)\u001b[0m\u001b[1;33m:\u001b[0m\u001b[1;33m\u001b[0m\u001b[1;33m\u001b[0m\u001b[0m\n",
      "\u001b[1;32mC:\\ProgramData\\Anaconda3\\lib\\site-packages\\census\\core.py\u001b[0m in \u001b[0;36mquery\u001b[1;34m(self, fields, geo, year, **kwargs)\u001b[0m\n\u001b[0;32m    198\u001b[0m \u001b[1;33m\u001b[0m\u001b[0m\n\u001b[0;32m    199\u001b[0m         \u001b[1;32melse\u001b[0m\u001b[1;33m:\u001b[0m\u001b[1;33m\u001b[0m\u001b[1;33m\u001b[0m\u001b[0m\n\u001b[1;32m--> 200\u001b[1;33m             \u001b[1;32mraise\u001b[0m \u001b[0mCensusException\u001b[0m\u001b[1;33m(\u001b[0m\u001b[0mresp\u001b[0m\u001b[1;33m.\u001b[0m\u001b[0mtext\u001b[0m\u001b[1;33m)\u001b[0m\u001b[1;33m\u001b[0m\u001b[1;33m\u001b[0m\u001b[0m\n\u001b[0m\u001b[0;32m    201\u001b[0m \u001b[1;33m\u001b[0m\u001b[0m\n\u001b[0;32m    202\u001b[0m     \u001b[1;33m@\u001b[0m\u001b[0mlru_cache\u001b[0m\u001b[1;33m(\u001b[0m\u001b[0mmaxsize\u001b[0m\u001b[1;33m=\u001b[0m\u001b[1;36m1024\u001b[0m\u001b[1;33m)\u001b[0m\u001b[1;33m\u001b[0m\u001b[1;33m\u001b[0m\u001b[0m\n",
      "\u001b[1;31mCensusException\u001b[0m: error: invalid 'in' argument"
     ]
    }
   ],
   "source": [
    "c.acs5.get('B25034_010E', geo={'for':'state:*', 'in':'county*'})\n",
    "\n",
    "#https://api.census.gov/data/2017/acs/acs5/subject?get=NAME,S0101_C01_001E&for=county:*&in=state:*&key=d16d4d592fbfbf70fe519b47dca283c6ac339d8e\n",
    "#c.sf1.get('NAME', geo={'for': 'tract:*','in': 'state:{} county:170'.format(states.AK.fips)})\n",
    "\n",
    "print(states.MD.fips)\n",
    "\n",
    "#c = Census(\"d16d4d592fbfbf70fe519b47dca283c6ac339d8e\",year=2017)\n",
    "#print(c.acs5.get(('NAME', 'B25034_010E'),{'for': 'state:{}'.format(states.MD.fips)}))\n",
    "#print(c.acs5.get(('NAME', 'B01002_001E'),{'for': 'state:{}'.format(states.MD.fips)}))\n",
    "\n",
    "#c.acs5.state_county_tract('NAME', [states.AK.fips states.MD.fips], '170', Census.ALL)\n",
    "#c.acs5.state_county_tract('B01001_004E', {'for': 'state:*'})"
   ]
  },
  {
   "cell_type": "code",
   "execution_count": 30,
   "metadata": {},
   "outputs": [
    {
     "name": "stdout",
     "output_type": "stream",
     "text": [
      "<Response [200]>\n"
     ]
    }
   ],
   "source": [
    "# Build base URL\n",
    "HOST = \"https://api.census.gov/data\"\n",
    "year = \"2010\"\n",
    "dataset = \"dec/sf1\"\n",
    "base_url = \"/\".join([HOST, year, dataset])\n",
    "\n",
    "# Specify variables and other predicates\n",
    "get_vars = [\"NAME\", \"P013001\", \"P037001\"]\n",
    "predicates = {}\n",
    "predicates[\"get\"] = \",\".join(get_vars)\n",
    "predicates[\"for\"] = \"state:*\"\n",
    "\n",
    "# Execute the request, examine text of response object\n",
    "r = requests.get(base_url, params=predicates)\n",
    "print(r)"
   ]
  },
  {
   "cell_type": "code",
   "execution_count": 15,
   "metadata": {},
   "outputs": [
    {
     "ename": "SyntaxError",
     "evalue": "positional argument follows keyword argument (<ipython-input-15-f39f0dfed1dd>, line 2)",
     "output_type": "error",
     "traceback": [
      "\u001b[1;36m  File \u001b[1;32m\"<ipython-input-15-f39f0dfed1dd>\"\u001b[1;36m, line \u001b[1;32m2\u001b[0m\n\u001b[1;33m    c.acs5.state_county( fields='B01001_004E','state_fips: {02} county_fips: {111023}')\u001b[0m\n\u001b[1;37m                                             ^\u001b[0m\n\u001b[1;31mSyntaxError\u001b[0m\u001b[1;31m:\u001b[0m positional argument follows keyword argument\n"
     ]
    }
   ],
   "source": [
    "#c.sf1.get('NAME', geo={'for': 'tract:*','in': 'state:{} county:170'.format(states.AK.fips)})\n",
    "c.acs5.state_county( fields='B01001_004E','state_fips: {02} county_fips: {111023}')"
   ]
  },
  {
   "cell_type": "code",
   "execution_count": 17,
   "metadata": {},
   "outputs": [
    {
     "name": "stdout",
     "output_type": "stream",
     "text": [
      "24\n",
      "[{'NAME': 'Maryland', 'B25034_010E': 129556.0, 'state': '24'}]\n",
      "[{'NAME': 'Maryland', 'B01002_001E': 38.5, 'state': '24'}]\n",
      "[{'NAME': 'Maryland', 'B25034_010E': 292837.0, 'state': '24'}]\n",
      "[{'NAME': 'Maryland', 'B01002_001E': 38.0, 'state': '24'}]\n"
     ]
    }
   ],
   "source": [
    "c.sf1.get('NAME', geo={'for': 'tract:*',\n",
    "                       'in': 'state:{} county:170'.format(states.AK.fips)})\n",
    "\n",
    "print(states.MD.fips)\n",
    "\n",
    "c = Census(\"d16d4d592fbfbf70fe519b47dca283c6ac339d8e\",year=2017)\n",
    "print(c.acs5.get(('NAME', 'B25034_010E'),{'for': 'state:{}'.format(states.MD.fips)}))\n",
    "print(c.acs5.get(('NAME', 'B01002_001E'),{'for': 'state:{}'.format(states.MD.fips)}))\n",
    "\n",
    "c = Census(\"d16d4d592fbfbf70fe519b47dca283c6ac339d8e\",year=2013)\n",
    "print(c.acs5.get(('NAME', 'B25034_010E'),{'for': 'state:{}'.format(states.MD.fips)}))\n",
    "print(c.acs5.get(('NAME', 'B01002_001E'),{'for': 'state:{}'.format(states.MD.fips)}))\n"
   ]
  },
  {
   "cell_type": "code",
   "execution_count": 6,
   "metadata": {},
   "outputs": [
    {
     "ename": "TypeError",
     "evalue": "'Census' object is not callable",
     "output_type": "error",
     "traceback": [
      "\u001b[1;31m---------------------------------------------------------------------------\u001b[0m",
      "\u001b[1;31mTypeError\u001b[0m                                 Traceback (most recent call last)",
      "\u001b[1;32m<ipython-input-6-868db1d195dc>\u001b[0m in \u001b[0;36m<module>\u001b[1;34m()\u001b[0m\n\u001b[0;32m     53\u001b[0m                                                  \u001b[0mrenter_occupied\u001b[0m \u001b[1;33m=\u001b[0m \u001b[1;34m'B25008_003'\u001b[0m\u001b[1;33m,\u001b[0m\u001b[1;33m\u001b[0m\u001b[1;33m\u001b[0m\u001b[0m\n\u001b[0;32m     54\u001b[0m                                                  \u001b[0mmedian_rent\u001b[0m \u001b[1;33m=\u001b[0m \u001b[1;34m'B25031_001'\u001b[0m\u001b[1;33m,\u001b[0m\u001b[1;33m\u001b[0m\u001b[1;33m\u001b[0m\u001b[0m\n\u001b[1;32m---> 55\u001b[1;33m                                                  \u001b[0mmedian_home_value\u001b[0m \u001b[1;33m=\u001b[0m \u001b[1;34m'B25077_001'\u001b[0m\u001b[1;33m\u001b[0m\u001b[1;33m\u001b[0m\u001b[0m\n\u001b[0m\u001b[0;32m     56\u001b[0m                                                  ),\n\u001b[0;32m     57\u001b[0m               output = 'wide')\n",
      "\u001b[1;31mTypeError\u001b[0m: 'Census' object is not callable"
     ]
    }
   ],
   "source": [
    "acs_data = c.acs5.get(geography = 'zcta', variables = c(total_population = 'B01001_001', \n",
    "                                                 median_age = 'B01002_001', \n",
    "                                                 male_25_29 = 'B01001_011',\n",
    "                                                 male_30_34 = 'B01001_012',\n",
    "                                                 male_35_39 = 'B01001_013',\n",
    "                                                 male_40_44 = 'B01001_014',\n",
    "                                                 male_45_49 = 'B01001_015',\n",
    "                                                 male_50_54 = 'B01001_016',\n",
    "                                                 male_55_59 = 'B01001_017',\n",
    "                                                 male_60_61 = 'B01001_018',\n",
    "                                                 male_62_64 = 'B01001_019',\n",
    "                                                 male_65_66 = 'B01001_020',\n",
    "                                                 male_67_69 = 'B01001_021',\n",
    "                                                 male_70_74 = 'B01001_022',\n",
    "                                                 male_75_79 = 'B01001_023',\n",
    "                                                 male_80_84 = 'B01001_024',\n",
    "                                                 male_85_plus = 'B01001_025',\n",
    "                                                 female_25_29 = 'B01001_035',\n",
    "                                                 female_30_34 = 'B01001_036',\n",
    "                                                 female_35_39 = 'B01001_037',\n",
    "                                                 female_40_44 = 'B01001_038',\n",
    "                                                 female_45_49 = 'B01001_039',\n",
    "                                                 female_50_54 = 'B01001_040',\n",
    "                                                 female_55_59 = 'B01001_041',\n",
    "                                                 female_60_61 = 'B01001_042',\n",
    "                                                 female_62_64 = 'B01001_043',\n",
    "                                                 female_65_66 = 'B01001_044',\n",
    "                                                 female_67_69 = 'B01001_045',\n",
    "                                                 female_70_74 = 'B01001_046',\n",
    "                                                 female_75_79 = 'B01001_047',\n",
    "                                                 female_80_84 = 'B01001_048',\n",
    "                                                 female_85_plus = 'B01001_049',\n",
    "                                                 leave_630_7 = 'B08011_006',\n",
    "                                                 leave_7_730 = 'B08011_007',\n",
    "                                                 leave_730_8 = 'B08011_008',\n",
    "                                                 leave_8_830 = 'B08011_009',\n",
    "                                                 leave_830_9 = 'B08011_010',\n",
    "                                                 walk_to_work = 'B08006_015',\n",
    "                                                 total_households = 'B11001_002',\n",
    "                                                 high_school_diploma = 'B15003_017',\n",
    "                                                 bachelors_degree = 'B15003_022',\n",
    "                                                 masters_degree = 'B15003_023',\n",
    "                                                 median_hh_income = 'B19013_001',\n",
    "                                                 income_hh_50_60 = 'B19001_011',\n",
    "                                                 income_hh_60_75 = 'B19001_012',\n",
    "                                                 income_hh_75_100 = 'B19001_013',\n",
    "                                                 income_hh_100_125 = 'B19001_014',\n",
    "                                                 income_hh_125_150 = 'B19001_015',\n",
    "                                                 income_hh_150_200 = 'B19001_016',\n",
    "                                                 income_hh_200_plus = 'B19001_017',\n",
    "                                                 male_workers = 'B23022_003',\n",
    "                                                 female_workers = 'B23022_027',\n",
    "                                                 renter_occupied = 'B25008_003',\n",
    "                                                 median_rent = 'B25031_001',\n",
    "                                                 median_home_value = 'B25077_001'\n",
    "                                                 ),\n",
    "              output = 'wide')"
   ]
  },
  {
   "cell_type": "code",
   "execution_count": 8,
   "metadata": {
    "collapsed": true
   },
   "outputs": [],
   "source": [
    "#c.acs5.tables()\n",
    "x = c.sf1.state_county_tract('NAME', states.AK.fips, '170', Census.ALL)"
   ]
  },
  {
   "cell_type": "code",
   "execution_count": 9,
   "metadata": {},
   "outputs": [
    {
     "data": {
      "text/plain": [
       "[{'NAME': 'Census Tract 1.01, Matanuska-Susitna Borough, Alaska',\n",
       "  'county': '170',\n",
       "  'state': '02',\n",
       "  'tract': '000101'},\n",
       " {'NAME': 'Census Tract 1.02, Matanuska-Susitna Borough, Alaska',\n",
       "  'county': '170',\n",
       "  'state': '02',\n",
       "  'tract': '000102'},\n",
       " {'NAME': 'Census Tract 2, Matanuska-Susitna Borough, Alaska',\n",
       "  'county': '170',\n",
       "  'state': '02',\n",
       "  'tract': '000200'},\n",
       " {'NAME': 'Census Tract 3, Matanuska-Susitna Borough, Alaska',\n",
       "  'county': '170',\n",
       "  'state': '02',\n",
       "  'tract': '000300'},\n",
       " {'NAME': 'Census Tract 4.01, Matanuska-Susitna Borough, Alaska',\n",
       "  'county': '170',\n",
       "  'state': '02',\n",
       "  'tract': '000401'},\n",
       " {'NAME': 'Census Tract 4.02, Matanuska-Susitna Borough, Alaska',\n",
       "  'county': '170',\n",
       "  'state': '02',\n",
       "  'tract': '000402'},\n",
       " {'NAME': 'Census Tract 5.01, Matanuska-Susitna Borough, Alaska',\n",
       "  'county': '170',\n",
       "  'state': '02',\n",
       "  'tract': '000501'},\n",
       " {'NAME': 'Census Tract 5.02, Matanuska-Susitna Borough, Alaska',\n",
       "  'county': '170',\n",
       "  'state': '02',\n",
       "  'tract': '000502'},\n",
       " {'NAME': 'Census Tract 6.01, Matanuska-Susitna Borough, Alaska',\n",
       "  'county': '170',\n",
       "  'state': '02',\n",
       "  'tract': '000601'},\n",
       " {'NAME': 'Census Tract 6.03, Matanuska-Susitna Borough, Alaska',\n",
       "  'county': '170',\n",
       "  'state': '02',\n",
       "  'tract': '000603'},\n",
       " {'NAME': 'Census Tract 6.04, Matanuska-Susitna Borough, Alaska',\n",
       "  'county': '170',\n",
       "  'state': '02',\n",
       "  'tract': '000604'},\n",
       " {'NAME': 'Census Tract 7.01, Matanuska-Susitna Borough, Alaska',\n",
       "  'county': '170',\n",
       "  'state': '02',\n",
       "  'tract': '000701'},\n",
       " {'NAME': 'Census Tract 7.03, Matanuska-Susitna Borough, Alaska',\n",
       "  'county': '170',\n",
       "  'state': '02',\n",
       "  'tract': '000703'},\n",
       " {'NAME': 'Census Tract 7.05, Matanuska-Susitna Borough, Alaska',\n",
       "  'county': '170',\n",
       "  'state': '02',\n",
       "  'tract': '000705'},\n",
       " {'NAME': 'Census Tract 7.06, Matanuska-Susitna Borough, Alaska',\n",
       "  'county': '170',\n",
       "  'state': '02',\n",
       "  'tract': '000706'},\n",
       " {'NAME': 'Census Tract 8, Matanuska-Susitna Borough, Alaska',\n",
       "  'county': '170',\n",
       "  'state': '02',\n",
       "  'tract': '000800'},\n",
       " {'NAME': 'Census Tract 9, Matanuska-Susitna Borough, Alaska',\n",
       "  'county': '170',\n",
       "  'state': '02',\n",
       "  'tract': '000900'},\n",
       " {'NAME': 'Census Tract 10.01, Matanuska-Susitna Borough, Alaska',\n",
       "  'county': '170',\n",
       "  'state': '02',\n",
       "  'tract': '001001'},\n",
       " {'NAME': 'Census Tract 10.03, Matanuska-Susitna Borough, Alaska',\n",
       "  'county': '170',\n",
       "  'state': '02',\n",
       "  'tract': '001003'},\n",
       " {'NAME': 'Census Tract 10.04, Matanuska-Susitna Borough, Alaska',\n",
       "  'county': '170',\n",
       "  'state': '02',\n",
       "  'tract': '001004'},\n",
       " {'NAME': 'Census Tract 11, Matanuska-Susitna Borough, Alaska',\n",
       "  'county': '170',\n",
       "  'state': '02',\n",
       "  'tract': '001100'},\n",
       " {'NAME': 'Census Tract 12.01, Matanuska-Susitna Borough, Alaska',\n",
       "  'county': '170',\n",
       "  'state': '02',\n",
       "  'tract': '001201'},\n",
       " {'NAME': 'Census Tract 12.02, Matanuska-Susitna Borough, Alaska',\n",
       "  'county': '170',\n",
       "  'state': '02',\n",
       "  'tract': '001202'},\n",
       " {'NAME': 'Census Tract 13, Matanuska-Susitna Borough, Alaska',\n",
       "  'county': '170',\n",
       "  'state': '02',\n",
       "  'tract': '001300'}]"
      ]
     },
     "execution_count": 9,
     "metadata": {},
     "output_type": "execute_result"
    }
   ],
   "source": [
    "x"
   ]
  },
  {
   "cell_type": "code",
   "execution_count": null,
   "metadata": {
    "collapsed": true
   },
   "outputs": [],
   "source": []
  }
 ],
 "metadata": {
  "kernelspec": {
   "display_name": "Python 3",
   "language": "python",
   "name": "python3"
  },
  "language_info": {
   "codemirror_mode": {
    "name": "ipython",
    "version": 3
   },
   "file_extension": ".py",
   "mimetype": "text/x-python",
   "name": "python",
   "nbconvert_exporter": "python",
   "pygments_lexer": "ipython3",
   "version": "3.6.7"
  }
 },
 "nbformat": 4,
 "nbformat_minor": 2
}
