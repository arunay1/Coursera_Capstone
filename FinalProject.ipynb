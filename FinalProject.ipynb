{
 "cells": [
  {
   "cell_type": "markdown",
   "metadata": {},
   "source": [
    "<a href=\"https://www.bigdatauniversity.com\"><img src = \"https://ibm.box.com/shared/static/cw2c7r3o20w9zn8gkecaeyjhgw3xdgbj.png\" width = 400, align = \"center\"></a>\n",
    "\n",
    "<h1 align=center><font size = 5 color = brown>Predicting Type of Cuisine to serve in a Restaurant</font></h1>"
   ]
  },
  {
   "cell_type": "markdown",
   "metadata": {},
   "source": [
    "### <font color = brown><i> Business Problem</font></i>\n",
    "<br>\n",
    "<font face=calibri size=3>The objective of this report is to help anyone who intends to set up a restaurant or eatery in a neighborhood decide on where and what type of cuisines to serve through analysis of data sourced from foursquare and US census bureau. \n",
    "<br/><br/>\n",
    "“Explore where one should open a restaurant and what type of cuisine to serve through use of data analytics and Machine Learning”.\n",
    "<br/><br/>\n",
    "One business strategy coule be to explore cuisine which is not served in the neighbourhood abother could be venture into cuisne mostly served in the area.\n",
    "\n",
    "</font>\n",
    "\n",
    "\n",
    "### <font color = brown><i>  Description of Data</font></i>\n",
    "<br>\n",
    "<font face=calibri size=3>\n",
    "For purpose of this report I intend to use data gathered from foursquare about type of cuisine most served at a neighbourhood and US census website about neighbourhood profile through use of API’s. \n",
    "<br/><br/>\n",
    "I will focus on using supervised learning algorithms such as k-Nearest Neighbors and Support Vector Machine and classify data points into categorical type of cuisine.\n",
    "<br/><br/>\n",
    "US Census has API’s which provide information about geographies for more than 18000 variables. I plan to use variables pertaining to age, race, income etc. along with data obtained from foursquare regarding number of place, type of cuisine and then predict the type of cuisine can be served when setting a restaurant in a new neighborhood.\n"
   ]
  }
}
